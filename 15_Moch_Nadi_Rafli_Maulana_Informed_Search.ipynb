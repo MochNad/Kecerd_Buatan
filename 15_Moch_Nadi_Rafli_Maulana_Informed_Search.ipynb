{
  "nbformat": 4,
  "nbformat_minor": 0,
  "metadata": {
    "colab": {
      "provenance": [],
      "authorship_tag": "ABX9TyNS9s7g8ntZWuWtCoGldfkJ",
      "include_colab_link": true
    },
    "kernelspec": {
      "name": "python3",
      "display_name": "Python 3"
    },
    "language_info": {
      "name": "python"
    }
  },
  "cells": [
    {
      "cell_type": "markdown",
      "metadata": {
        "id": "view-in-github",
        "colab_type": "text"
      },
      "source": [
        "<a href=\"https://colab.research.google.com/github/MochNad/Kecerd_Buatan/blob/main/15_Moch_Nadi_Rafli_Maulana_Informed_Search.ipynb\" target=\"_parent\"><img src=\"https://colab.research.google.com/assets/colab-badge.svg\" alt=\"Open In Colab\"/></a>"
      ]
    },
    {
      "cell_type": "code",
      "execution_count": 24,
      "metadata": {
        "colab": {
          "base_uri": "https://localhost:8080/"
        },
        "id": "tum72gcp1nU-",
        "outputId": "f777ed40-6a2e-4010-9c8e-9d5fe6322924"
      },
      "outputs": [
        {
          "output_type": "stream",
          "name": "stdout",
          "text": [
            "Path does not exist!\n"
          ]
        }
      ],
      "source": [
        "class Graph:\n",
        "  def __init__(self, adjacency_list):\n",
        "    self.adjacency_list = adjacency_list\n",
        "  def get_neighbors(self, v):\n",
        "    return self.adjacency_list[v]\n",
        "  def h(self, n):\n",
        "    H = {\n",
        "        'A': 1,\n",
        "        'B': 1,\n",
        "        'C': 1,\n",
        "        'D': 1\n",
        "    }\n",
        "    return H[n]\n",
        "  def a_star_algorithm(self, start_node, stop_node):\n",
        "    open_list = set([start_node])\n",
        "    closed_list = set([])\n",
        "    g = {}\n",
        "    g[start_node] = 0\n",
        "    parents = {}\n",
        "    parents[start_node] = start_node\n",
        "    while len(open_list) > 0:\n",
        "      n = None\n",
        "      for v in open_list:\n",
        "        if n == None or g[v] + self.h(v) < g[n] + self.h(n):\n",
        "          n = v;\n",
        "        if n == None:\n",
        "          print('Path does not exist!')\n",
        "          return None\n",
        "        if n == stop_node:\n",
        "          reconst_path = []\n",
        "          while parents[n] != n:\n",
        "            reconst_path.append(n)\n",
        "            n = parents[n]\n",
        "          reconst_path.append(start_node)\n",
        "          reconst_path.reverse()\n",
        "          print('Path found: {}'.format(reconst_path))\n",
        "          return reconst_path\n",
        "          for (m, weight) in self.get_neighbors(n):\n",
        "            if m not in open_list and m not in closed_list:\n",
        "              open_list.add(m)\n",
        "              parents[m] = n\n",
        "              g[m] = g[n] + weight\n",
        "            else:\n",
        "              if g[m] > g[n] + weight:\n",
        "                g[m] = g[n] + weight\n",
        "                parents[m] = n\n",
        "                if m in closed_list:\n",
        "                  closed_list.remove(m)\n",
        "                  open_list.add(m)\n",
        "          open_list.remove(n)\n",
        "          closed_list.add(n)\n",
        "      print('Path does not exist!')\n",
        "      return None\n",
        "adjacency_list = {\n",
        "    'A': [('B', 1), ('C', 3), ('D', 7)],\n",
        "    'B': [('D', 5)],\n",
        "    'C':  [('D', 12)]\n",
        "}\n",
        "graph1 = Graph(adjacency_list)\n",
        "graph1.a_star_algorithm('A', 'D')"
      ]
    }
  ]
}