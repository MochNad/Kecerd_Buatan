{
  "nbformat": 4,
  "nbformat_minor": 0,
  "metadata": {
    "colab": {
      "provenance": [],
      "authorship_tag": "ABX9TyMoE6UEFdN+eag3vzp4II4Y",
      "include_colab_link": true
    },
    "kernelspec": {
      "name": "python3",
      "display_name": "Python 3"
    },
    "language_info": {
      "name": "python"
    }
  },
  "cells": [
    {
      "cell_type": "markdown",
      "metadata": {
        "id": "view-in-github",
        "colab_type": "text"
      },
      "source": [
        "<a href=\"https://colab.research.google.com/github/MochNad/Kecerd_Buatan/blob/main/15_Moch_Nadi_Rafli_Maulana_Informed_Search.ipynb\" target=\"_parent\"><img src=\"https://colab.research.google.com/assets/colab-badge.svg\" alt=\"Open In Colab\"/></a>"
      ]
    },
    {
      "cell_type": "code",
      "execution_count": null,
      "metadata": {
        "colab": {
          "base_uri": "https://localhost:8080/"
        },
        "id": "tum72gcp1nU-",
        "outputId": "58f50f16-8547-4797-b094-549af4fd4c2c"
      },
      "outputs": [
        {
          "output_type": "stream",
          "name": "stdout",
          "text": [
            "Path found: ['A', 'B', 'D']\n"
          ]
        },
        {
          "output_type": "execute_result",
          "data": {
            "text/plain": [
              "['A', 'B', 'D']"
            ]
          },
          "metadata": {},
          "execution_count": 9
        }
      ],
      "source": [
        "class Graph:\n",
        "\n",
        "  def __init__(self, adjacency_list):\n",
        "      self.adjacency_list = adjacency_list\n",
        "\n",
        "  def get_neighbors(self, v):\n",
        "      return self.adjacency_list[v]\n",
        "\n",
        "  def h(self, n):\n",
        "      H = {\n",
        "        'A': 1,\n",
        "        'B': 1,\n",
        "        'C': 1,\n",
        "        'D': 1\n",
        "      }\n",
        "\n",
        "      return H[n]\n",
        "\n",
        "  def a_star_algorithm(self, start_node, stop_node):\n",
        "\n",
        "      open_list = set([start_node])\n",
        "      closed_list = set([])\n",
        "\n",
        "      g = {}\n",
        "\n",
        "      g[start_node] = 0\n",
        "\n",
        "      parents = {}\n",
        "      parents[start_node] = start_node\n",
        "\n",
        "      while len(open_list) > 0:\n",
        "          n = None\n",
        "\n",
        "          for v in open_list:\n",
        "              if n == None or g[v] + self.h(v) < g[n] + self.h(n):\n",
        "                  n = v;\n",
        "\n",
        "          if n == None:\n",
        "              print('Path does not exist!')\n",
        "              return None\n",
        "\n",
        "          if n == stop_node:\n",
        "              reconst_path = []\n",
        "\n",
        "              while parents[n] != n:\n",
        "                  reconst_path.append(n)\n",
        "                  n = parents[n]\n",
        "\n",
        "              reconst_path.append(start_node)\n",
        "\n",
        "              reconst_path.reverse()\n",
        "\n",
        "              print('Path found: {}'.format(reconst_path))\n",
        "              return reconst_path\n",
        "\n",
        "          for (m, weight) in self.get_neighbors(n):\n",
        "\n",
        "              if m not in open_list and m not in closed_list:\n",
        "                  open_list.add(m)\n",
        "                  parents[m] = n\n",
        "                  g[m] = g[n] + weight\n",
        "\n",
        "              else:\n",
        "                if g[m] > g[n] + weight:\n",
        "                    g[m] = g[n] + weight\n",
        "                    parents[m] = n\n",
        "\n",
        "                    if m in closed_list:\n",
        "                        closed_list.remove(m)\n",
        "                        open_list.add(m)\n",
        "\n",
        "          open_list.remove(n)\n",
        "          closed_list.add(n)\n",
        "\n",
        "      print('Path does not exist!')\n",
        "      return None\n",
        "\n",
        "adjacency_list = {\n",
        "    'A': [('B', 1), ('C', 3), ('D', 7)],\n",
        "    'B': [('D', 5)],\n",
        "    'C':  [('D', 12)]\n",
        "}\n",
        "graph1 = Graph(adjacency_list)\n",
        "graph1.a_star_algorithm('A', 'D')"
      ]
    },
    {
      "cell_type": "code",
      "source": [
        "DAG = {\n",
        "    'A' : {'C' : 4, 'G' : 9},\n",
        "    'B' : {'E' : 6},\n",
        "    'C' : {'D' : 6, 'H' : 12},\n",
        "    'D' : {'E' : 7},\n",
        "    'H' : {'F' : 15},\n",
        "    'E' : {'F' : 8},\n",
        "    'F' : {'B' : 5}\n",
        "}\n",
        "\n",
        "  def shortest_path(graph, source, dest):\n",
        "      result =[]\n",
        "      result.append(source)\n",
        "      while dest not in result:\n",
        "          current_node = result[-1]\n",
        "          local_max = min(graph[current_node].values())\n",
        "          for node, weight in graph[current_node].items():\n",
        "              if weight == local_max:\n",
        "                  result.append(node)\n",
        "      return result\n",
        "print(\"Hasil pencarian algoritma greedy:\")\n",
        "shortest_path(DAG, 'A', 'F')"
      ],
      "metadata": {
        "id": "5ATwrfLue-Rx"
      },
      "execution_count": null,
      "outputs": []
    }
  ]
}