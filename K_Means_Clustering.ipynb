{
  "nbformat": 4,
  "nbformat_minor": 0,
  "metadata": {
    "colab": {
      "provenance": [],
      "authorship_tag": "ABX9TyPRF+N9o4CjJubl+5OIH1JA",
      "include_colab_link": true
    },
    "kernelspec": {
      "name": "python3",
      "display_name": "Python 3"
    },
    "language_info": {
      "name": "python"
    }
  },
  "cells": [
    {
      "cell_type": "markdown",
      "metadata": {
        "id": "view-in-github",
        "colab_type": "text"
      },
      "source": [
        "<a href=\"https://colab.research.google.com/github/MochNad/Kecerd_Buatan/blob/main/K_Means_Clustering.ipynb\" target=\"_parent\"><img src=\"https://colab.research.google.com/assets/colab-badge.svg\" alt=\"Open In Colab\"/></a>"
      ]
    },
    {
      "cell_type": "code",
      "execution_count": 7,
      "metadata": {
        "colab": {
          "base_uri": "https://localhost:8080/"
        },
        "id": "UewaGZnyrsSN",
        "outputId": "d024f108-e915-4ea9-8a16-59d426b3e67b"
      },
      "outputs": [
        {
          "name": "stdout",
          "output_type": "stream",
          "text": [
            "Please Enter to Continue...\n"
          ]
        }
      ],
      "source": [
        "import numpy as np\n",
        "import cv2 as cv\n",
        "\n",
        "def K_Means(Image, K):\n",
        "    \n",
        "    if(len(Image.shape)<3):\n",
        "      Z = Image.reshape((-1,1))\n",
        "    elif len(Image.shape)==3:\n",
        "      Z = Image.reshape((-1,3))\n",
        "    \n",
        "    \n",
        "    # convert to np.float32\n",
        "    Z = np.float32(Z)\n",
        "    \n",
        "    # define criteria, number of clusters(K) and apply kmeans()\n",
        "    criteria = (cv.TERM_CRITERIA_EPS + cv.TERM_CRITERIA_MAX_ITER, 10, 1.0)\n",
        "    ret,label,center = cv.kmeans(Z, K, None, criteria, 10, cv.KMEANS_RANDOM_CENTERS)\n",
        "    \n",
        "    # Now convert back into uint8, and make original image\n",
        "    center = np.uint8(center)\n",
        "    res = center[label.flatten()]\n",
        "    Clustered_Image = res.reshape((Image.shape))\n",
        "    \n",
        "    return Clustered_Image\n",
        "\n",
        "def main():\n",
        "    Input_Image = cv.imread(\"Googleplex.jpg\")\n",
        "    Clusters = 2\n",
        "    Clustered_Image = K_Means(Input_Image, Clusters)\n",
        "    \n",
        "    cv.imwrite(\"Cluster_Image.png\", Clustered_Image)\n",
        "    input(\"Please Enter to Continue...\")\n",
        "\n",
        "if __name__ == '__main__':\n",
        "\tmain()"
      ]
    }
  ]
}