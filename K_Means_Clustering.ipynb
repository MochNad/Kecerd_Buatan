{
  "nbformat": 4,
  "nbformat_minor": 0,
  "metadata": {
    "colab": {
      "provenance": [],
      "authorship_tag": "ABX9TyNozrJT2Y/dBpNRWoaCBtvy",
      "include_colab_link": true
    },
    "kernelspec": {
      "name": "python3",
      "display_name": "Python 3"
    },
    "language_info": {
      "name": "python"
    }
  },
  "cells": [
    {
      "cell_type": "markdown",
      "metadata": {
        "id": "view-in-github",
        "colab_type": "text"
      },
      "source": [
        "<a href=\"https://colab.research.google.com/github/MochNad/Kecerd_Buatan/blob/main/K_Means_Clustering.ipynb\" target=\"_parent\"><img src=\"https://colab.research.google.com/assets/colab-badge.svg\" alt=\"Open In Colab\"/></a>"
      ]
    },
    {
      "cell_type": "code",
      "execution_count": null,
      "metadata": {
        "colab": {
          "base_uri": "https://localhost:8080/"
        },
        "id": "UewaGZnyrsSN",
        "outputId": "d024f108-e915-4ea9-8a16-59d426b3e67b"
      },
      "outputs": [
        {
          "name": "stdout",
          "output_type": "stream",
          "text": [
            "Please Enter to Continue...\n"
          ]
        }
      ],
      "source": [
        "# Pengelompokan k-means pada gambar berwarna dan skala abu-abu\n",
        "\n",
        "# Sertakan library ini\n",
        "import numpy as np\n",
        "import cv2 as cv\n",
        "\n",
        "# Fungsi K-Means\n",
        "def K_Means(Image, K):\n",
        "    \n",
        "    # Membantuk ulang dari tiga saluran\n",
        "    if(len(Image.shape)<3): # Abu-abu\n",
        "      Z = Image.reshape((-1,1))\n",
        "    elif len(Image.shape)==3: # Berwarna\n",
        "      Z = Image.reshape((-1,3))\n",
        "    \n",
        "    \n",
        "    # Untuk Menghitung cluster yang diperlukan, z diubah menjadi tipe data desimal (float32)\n",
        "    Z = np.float32(Z)\n",
        "    \n",
        "    # Menentukan kriteria akurasi dan jumlah maksimum iterasi\n",
        "    criteria = (cv.TERM_CRITERIA_EPS + cv.TERM_CRITERIA_MAX_ITER, 10, 1.0) # Maksimum iterasi adalah 10 dan kriteria akurasi 1.0\n",
        "    ret,label,center = cv.kmeans(Z, K, None, criteria, 10, cv.KMEANS_RANDOM_CENTERS) # Menggunakan fungsi CV terbuka dalam parameter yang telah ditentukan\n",
        "    \n",
        "    # Mengubah tipe data desimal (float32) menjadi bilangan bulat (unit8)\n",
        "    center = np.uint8(center)\n",
        "    res = center[label.flatten()]\n",
        "    Clustered_Image = res.reshape((Image.shape)) # Dibentuk ulang seperti gambar input\n",
        "    \n",
        "    return Clustered_Image # Mengembalikan gambar yang dikelompokan ke fungsi Main\n",
        "\n",
        "# Fungsi Main\n",
        "def main():\n",
        "    Input_Image = cv.imread(\"Googleplex.jpg\") # Membaca Gambar, 0 untuk mencoba gambar skala abu-abu\n",
        "    Clusters = 2 # Menentukan berapa banyak kelompok warna\n",
        "    Clustered_Image = K_Means(Input_Image, Clusters) # Menempatkan gambar dan jumlah kelompok dalam fungsi lain\n",
        "    \n",
        "    cv.imwrite(\"Cluster_Image.png\", Clustered_Image) # Simpan Semuanya\n",
        "    input(\"Please Enter to Continue...\") # Baris input agar program tidak akan menutup otomatis\n",
        "\n",
        "if __name__ == '__main__':\n",
        "\tmain()"
      ]
    }
  ]
}